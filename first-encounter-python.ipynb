{
 "cells": [
  {
   "cell_type": "markdown",
   "id": "ad071453",
   "metadata": {},
   "source": [
    "# Working with iPython notebooks\n",
    "\n",
    "### Code v. Markup\n",
    "\n",
    "Let's explore these basic concepts in this notebook"
   ]
  },
  {
   "cell_type": "code",
   "execution_count": 1,
   "id": "2df78721",
   "metadata": {},
   "outputs": [
    {
     "name": "stdout",
     "output_type": "stream",
     "text": [
      "Hello World\n"
     ]
    }
   ],
   "source": [
    "# Traditional kickoff for learning to code\n",
    "print(\"Hello World\")"
   ]
  },
  {
   "cell_type": "code",
   "execution_count": 2,
   "id": "9b937d3d",
   "metadata": {},
   "outputs": [
    {
     "name": "stdout",
     "output_type": "stream",
     "text": [
      "Python 3.9.13\r\n"
     ]
    }
   ],
   "source": [
    "## check what version of Python I have on my computer\n",
    "!python --version"
   ]
  },
  {
   "cell_type": "code",
   "execution_count": 3,
   "id": "d46fef24",
   "metadata": {},
   "outputs": [
    {
     "data": {
      "text/plain": [
       "4"
      ]
     },
     "execution_count": 3,
     "metadata": {},
     "output_type": "execute_result"
    }
   ],
   "source": [
    "## validating addition\n",
    "2 + 2"
   ]
  },
  {
   "cell_type": "code",
   "execution_count": 4,
   "id": "b0544b3e",
   "metadata": {},
   "outputs": [
    {
     "data": {
      "text/plain": [
       "5.0"
      ]
     },
     "execution_count": 4,
     "metadata": {},
     "output_type": "execute_result"
    }
   ],
   "source": [
    "## simple division\n",
    "25 / 5"
   ]
  },
  {
   "cell_type": "code",
   "execution_count": 5,
   "id": "80c4b003",
   "metadata": {},
   "outputs": [
    {
     "data": {
      "text/plain": [
       "1"
      ]
     },
     "execution_count": 5,
     "metadata": {},
     "output_type": "execute_result"
    }
   ],
   "source": [
    "## modulus\n",
    "25 % 2 "
   ]
  },
  {
   "cell_type": "markdown",
   "id": "6c88f4a3",
   "metadata": {},
   "source": [
    "## List of favorite fruits\n",
    "\n",
    "* Apples\n",
    "* Oranges\n",
    "* Bananas\n",
    "\n",
    "## Source of data:\n",
    "I found this data on the <a href=\"https://www.census.gov\">US Census Site</a>.\n",
    "\n",
    "Another way would be to provide the[link like this. (https://www.census.gov)"
   ]
  },
  {
   "cell_type": "code",
   "execution_count": null,
   "id": "9bc03b50",
   "metadata": {},
   "outputs": [],
   "source": []
  }
 ],
 "metadata": {
  "kernelspec": {
   "display_name": "Python 3 (ipykernel)",
   "language": "python",
   "name": "python3"
  },
  "language_info": {
   "codemirror_mode": {
    "name": "ipython",
    "version": 3
   },
   "file_extension": ".py",
   "mimetype": "text/x-python",
   "name": "python",
   "nbconvert_exporter": "python",
   "pygments_lexer": "ipython3",
   "version": "3.9.13"
  }
 },
 "nbformat": 4,
 "nbformat_minor": 5
}
